{
 "cells": [
  {
   "cell_type": "markdown",
   "metadata": {
    "slideshow": {
     "slide_type": "slide"
    }
   },
   "source": [
    "# Don't forget the fundamentals\n",
    "\n",
    "**Why we teach non-analytical tools to our students**\n",
    "\n",
    "<br>\n",
    "<br>\n",
    "\n",
    "Chase Coleman"
   ]
  },
  {
   "cell_type": "markdown",
   "metadata": {
    "slideshow": {
     "slide_type": "slide"
    }
   },
   "source": [
    "## Peking University HSBC Business School\n",
    "\n",
    "Currently teaching a sequence at the intersection of data science, finance, and economics at Peking University's HSBC Business School.\n",
    "\n",
    "The sequence is the equivalent of two courses per semester for two semesters.\n",
    "\n",
    "We are ecstatic to hear about how many other groups are working on similar courses."
   ]
  },
  {
   "cell_type": "markdown",
   "metadata": {
    "slideshow": {
     "slide_type": "subslide"
    }
   },
   "source": [
    "### Economists as data scientists?\n",
    "\n",
    "Economics is unique to other disciplines in that we are taught a mixture of history, mathematics (theory), and statistics (empirics).\n",
    "\n",
    "This helps a business because there is a \"single person\" who can perform the empirical work, determine whether the results are sensible or not, and \"tell a story\" about what is occurring.\n",
    "\n",
    "Lots of hiring of economists in tech companies:\n",
    "\n",
    "* [Amazon economists](https://www.cnn.com/2019/03/13/tech/amazon-economists/index.html)\n",
    "* [4 reasons economists make great data scientists](https://medium.com/quantopy-blog/4-reasons-why-economists-make-great-data-scientists-and-why-no-one-tells-them-524478845ec2)\n",
    "* [HBR on \"why tech companies hire so many economists\"](https://hbr.org/2019/02/why-tech-companies-hire-so-many-economists)\n",
    "* [Noah Smith on \"economists getting real jobs\"](https://www.bloomberg.com/opinion/articles/2016-08-15/all-of-a-sudden-economists-are-getting-real-jobs)\n"
   ]
  },
  {
   "cell_type": "markdown",
   "metadata": {
    "slideshow": {
     "slide_type": "subslide"
    }
   },
   "source": [
    "### Analytical tools\n",
    "\n",
    "As with many of the data science programs being developed, there is a significant focus on \"standard\" analytical tools:\n",
    "\n",
    "* Mathematics\n",
    "  - Linear algebra\n",
    "  - Optimization\n",
    "  - Probability\n",
    "  - ...\n",
    "* Economics/Finance\n",
    "  - Portfolio optimization\n",
    "  - Partial and general equilibrium models\n",
    "  - Applications using tools from other topics\n",
    "  - ...\n",
    "* Machine learning\n",
    "  - Overfitting and regularization\n",
    "  - Neural nets (CNN, RNN)\n",
    "  - Reinforcement learning methods\n",
    "  - ...\n",
    "* Statistics\n",
    "  - Bayes law\n",
    "  - Maximum likelihood\n",
    "  - Modern MCMC methods\n",
    "  - ..."
   ]
  },
  {
   "cell_type": "markdown",
   "metadata": {
    "slideshow": {
     "slide_type": "subslide"
    }
   },
   "source": [
    "### Non-analytical topics\n",
    "\n",
    "* Data engineering\n",
    "  - Building automated data pipelines\n",
    "  - Negative engineering\n",
    "  - SQL and basic database management\n",
    "  - ...\n",
    "* Data wrangling\n",
    "  - Long vs wide\n",
    "  - Split-apply-combine\n",
    "  - Data scraping\n",
    "  - ...\n",
    "* Software engineering\n",
    "  - Code style, structure, and package development\n",
    "  - git for version control\n",
    "  - Testing and continuous integration\n",
    "  - ...\n",
    "* Visualization\n",
    "  - Rules for good visualizations\n",
    "  - Interactive plots\n",
    "  - Dashboard creation\n",
    "  - ..."
   ]
  },
  {
   "cell_type": "markdown",
   "metadata": {
    "slideshow": {
     "slide_type": "subslide"
    }
   },
   "source": [
    "### Why we teach non-analytical topics\n",
    "\n",
    "* The data world is messy, these tools help bring order to the chaos\n",
    "  - It can be a disservice to students to make them think that they will typically work with clean data... Only a few places will have clean data ready for their analytics team.\n",
    "  - Early exposure to the chaos can help students understand the urgency to write defensive code\n",
    "* Hireability -- We, and teams we've worked on, have disqualified candidates because they\n",
    "  - didn't know git\n",
    "  - wrote sloppy code that violated basic style principles\n",
    "* Our students will not be working in a \"silo\" after graduation\n",
    "  - Many teams use git with github for team code review -- Not knowing these tools will slow students down as they begin collaborating.\n",
    "  - Understanding the non-analytical tools allows them to contribute to their team in diverse ways (which can make them expensive to fire)"
   ]
  }
 ],
 "metadata": {
  "celltoolbar": "Slideshow",
  "kernelspec": {
   "display_name": "Python 3",
   "language": "python",
   "name": "python3"
  },
  "language_info": {
   "codemirror_mode": {
    "name": "ipython",
    "version": 3
   },
   "file_extension": ".py",
   "mimetype": "text/x-python",
   "name": "python",
   "nbconvert_exporter": "python",
   "pygments_lexer": "ipython3",
   "version": "3.8.3"
  }
 },
 "nbformat": 4,
 "nbformat_minor": 4
}
